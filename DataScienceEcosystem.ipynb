{
 "cells": [
  {
   "cell_type": "markdown",
   "id": "ef6bb7e1-becf-4238-813e-f161d39a2f43",
   "metadata": {},
   "source": [
    "\n",
    "# Data Science Tools and Ecosystem"
   ]
  },
  {
   "cell_type": "markdown",
   "id": "4abd8723-0142-4c10-a3e7-8ad025e82da0",
   "metadata": {},
   "source": [
    "In this notebook, Data Science Tools and Ecosystem are summarized."
   ]
  },
  {
   "cell_type": "markdown",
   "id": "07d8ac96-e0db-46db-9572-12e3502b7d0c",
   "metadata": {},
   "source": [
    "**Objectives:**\n",
    "\n",
    "- Languages of Data Science\n",
    "- Commercial Tools for Data Science\n",
    "- Cloud based tools for Data Science\n",
    "- Introduction to R and R Studio"
   ]
  },
  {
   "cell_type": "markdown",
   "id": "0f724805-21fc-4f39-a182-19e4ec4a78e0",
   "metadata": {},
   "source": [
    "##### Some of the popular languages that Data Scientists use are:"
   ]
  },
  {
   "cell_type": "markdown",
   "id": "c44efc8c-11fe-4f39-abf6-31d872bceb19",
   "metadata": {},
   "source": [
    "1. Python\n",
    "2. R\n",
    "3. Julia\n",
    "4. Scala"
   ]
  },
  {
   "cell_type": "markdown",
   "id": "d91e682c-863d-4762-b72d-91ebfd5bc2ad",
   "metadata": {},
   "source": [
    "##### Some of the commonly used libraries used by Data Scientists include:"
   ]
  },
  {
   "cell_type": "markdown",
   "id": "c387589e-4968-4587-801f-1b22349a73d5",
   "metadata": {},
   "source": [
    "1. NumPy\n",
    "2. Pandas\n",
    "3. PyTorch\n",
    "4. Matplotlib"
   ]
  },
  {
   "cell_type": "markdown",
   "id": "5ee1593b-67a2-435a-a401-bc66809b1b49",
   "metadata": {},
   "source": [
    "|Data Science Tools|\n",
    "--------------------\n",
    "|Apache Spark|\n",
    "|Tensor Flow|\n",
    "|PyTorch|\n"
   ]
  },
  {
   "cell_type": "markdown",
   "id": "0a80ee15-9777-4970-8aa0-854c5022ce55",
   "metadata": {},
   "source": [
    "### Below are a few examples of evaluating arithmetic expressions in Python"
   ]
  },
  {
   "cell_type": "code",
   "execution_count": 1,
   "id": "5e2c45f7-2aa7-4787-bcef-b6a7f61477b3",
   "metadata": {
    "tags": []
   },
   "outputs": [
    {
     "data": {
      "text/plain": [
       "17"
      ]
     },
     "execution_count": 1,
     "metadata": {},
     "output_type": "execute_result"
    }
   ],
   "source": [
    "# This a simple arithmetic expression to mutiply then add integers\n",
    "\n",
    "(3*4)+5"
   ]
  },
  {
   "cell_type": "code",
   "execution_count": 3,
   "id": "9e788794-1369-4151-9bf5-fab6cb015ab5",
   "metadata": {
    "tags": []
   },
   "outputs": [
    {
     "data": {
      "text/plain": [
       "3.3333333333333335"
      ]
     },
     "execution_count": 3,
     "metadata": {},
     "output_type": "execute_result"
    }
   ],
   "source": [
    "# This will convert 200 minutes to hours by diving by 60\n",
    "\n",
    "200/60"
   ]
  },
  {
   "cell_type": "markdown",
   "id": "3fc7f7be-7169-4ba3-b840-08e2b3ee3615",
   "metadata": {},
   "source": [
    "## Author\n",
    "Piyush Rathi"
   ]
  },
  {
   "cell_type": "code",
   "execution_count": null,
   "id": "d68e379d-1e64-4ee3-9d70-bae8537861ed",
   "metadata": {},
   "outputs": [],
   "source": []
  }
 ],
 "metadata": {
  "kernelspec": {
   "display_name": "Python",
   "language": "python",
   "name": "conda-env-python-py"
  },
  "language_info": {
   "codemirror_mode": {
    "name": "ipython",
    "version": 3
   },
   "file_extension": ".py",
   "mimetype": "text/x-python",
   "name": "python",
   "nbconvert_exporter": "python",
   "pygments_lexer": "ipython3",
   "version": "3.7.12"
  }
 },
 "nbformat": 4,
 "nbformat_minor": 5
}
